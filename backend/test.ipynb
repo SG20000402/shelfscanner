{
 "cells": [
  {
   "cell_type": "code",
   "execution_count": 4,
   "metadata": {},
   "outputs": [],
   "source": [
    "from fastapi import FastAPI, UploadFile, Form\n",
    "from fastapi.middleware.cors import CORSMiddleware\n",
    "from src.ocr import extract_titles\n",
    "from src.metadata import fetch_metadata\n",
    "from src.embeddings import generate_embedding\n",
    "from src.recommender import recommend_books\n",
    "from src.utils import save_file\n",
    "import os\n",
    "import easyocr"
   ]
  },
  {
   "cell_type": "code",
   "execution_count": null,
   "metadata": {},
   "outputs": [
    {
     "name": "stderr",
     "output_type": "stream",
     "text": [
      "Neither CUDA nor MPS are available - defaulting to CPU. Note: This module is much faster with a GPU.\n",
      "C:\\Users\\Samar\\AppData\\Roaming\\Python\\Python313\\site-packages\\torch\\utils\\data\\dataloader.py:666: UserWarning: 'pin_memory' argument is set as true but no accelerator is found, then device pinned memory won't be used.\n",
      "  warnings.warn(warn_msg)\n"
     ]
    },
    {
     "name": "stdout",
     "output_type": "stream",
     "text": [
      "[':', '3', '2', 'I', 'AR', '8', '0', '6', '1', '3', '8', '1', '3', 'N A t ! 0 N $', 'NL', '<', 'Qu', '8', '4', '1', '1', 'A DA M', '0', 'M', '08', '0', 'S MI T H', 'OHapaTi', 'BHARAN', 'introduction By ALAN', 'B .', 'KROEGER', 'IBHAWAN', '(P', 'LD', 'eal', 'pnay eove', 'ELIZABETH GILBERT', 'LEGAL EAGLES', 'BHAX', 'H', 'Paulo Coelho', 'TlPortoblloof', '4', '2', '4', 'GIVE TAKE', '28', '1', '@2g8', '3', 'JACI HIGGINS', 'BAD GONIPAMY', 'J]', '0 &', '%', '83', '60', '40', 'The', 'Psychologyof Money', 'MORGAN HOUSEL', '88', 'THOMAS HARDY', 'umpty', 'Publications International Ltd', 'Selected Works', 'THE', 'Biography', 'TINY TOT', 'VKRAM VEIAVALL', 'RAM JETHMALANI', 'h', '2E', 'Our Environment', '48 Book Paradise(', 'REBEL', 'SUSAN ADELMAN', 'RAAAARGHI', 'JEREMY_STRONG', 'DINOSAUR', 'Pox', 'NANI PALKHIVALA', 'Soli J Sorabjee', 'BANDAGESI', 'JEREMY STRONG LET $', 'Do', 'THE', 'Pharaohi', 'GENIUS', 'Arvind P Datar', 'LexisNexis\"', '6', 'COURTROOM', '0', 'NEW', 'dhisndzoDtsmixi', '9', 'DotoL', 'IO RLd WIDE', 'THP ONESTSEUEES', 'WO RLD WHDE', '1', '2o', '9', 'ROBERT', '0', '5', '46', '3', '@2', '3', 'V', 'BESTSELLER', 'JoHN', 'DESTSELLER', '1', '1', 'LUDIM', '1', 'g3', '1', '1', '5', '46', 'BLHILy', 'GrUgham  BlMEY', 'E', 'VHHH', '2', 'I0', '3', '31', '3', '4', '3', '0', '6', '2', '1', 'CLEAREPRESEM', 'CHAHEber', 'TESUMF', '1', 'IH', 'APOCHPSE', 'E1', '3', 'HommanLeuis', '8', 'H', '1', 'DA_BER', 'THE', 'FEARG', '1', '1', 'IH', 'L', 'WATCH', '1', '3', 'I3/', '23', 'RAINMaker', 'IVI', 'Pep', '7', '8', '3', '51299', '0.451-', 'GOXL SaB', '19114-5', '0', '3', '5', '0', '\"Turnip', '2', '1', '[', '1', '3', 'SHI', '1', 'I', '2', '1', 'Dumpty', '1', '5', '1']\n"
     ]
    }
   ],
   "source": [
    "image_path = \"C:/Users/Samar/OneDrive/Documents/Coding practice/ShelfScanner/backend/data/shelf_images/a2b1928c-1df5-489d-a4ac-64fcbca1ca83_1000026200.jpg\"\n",
    "reader = easyocr.Reader(['en'])\n",
    "result = reader.readtext(image_path, detail=0)\n",
    "print(result)\n",
    "# Simple heuristic: join all text as potential titles, split by lines or common separators\n",
    "# titles = ' '.join(result).split('\\n')  # Basic splitting; improve with vision if needed\n",
    "# print([title.strip() for title in titles if title.strip()])"
   ]
  },
  {
   "cell_type": "code",
   "execution_count": 8,
   "metadata": {},
   "outputs": [
    {
     "name": "stdout",
     "output_type": "stream",
     "text": [
      "[': 3 2 I AR 8 0 6 1 3 8 1 3 N A t ! 0 N $ NL < Qu 8 4 1 1 A DA M 0 M 08 0 S MI T H OHapaTi BHARAN introduction By ALAN B . KROEGER IBHAWAN (P LD eal pnay eove ELIZABETH GILBERT LEGAL EAGLES BHAX H Paulo Coelho TlPortoblloof 4 2 4 GIVE TAKE 28 1 @2g8 3 JACI HIGGINS BAD GONIPAMY J] 0 & % 83 60 40 The Psychologyof Money MORGAN HOUSEL 88 THOMAS HARDY umpty Publications International Ltd Selected Works THE Biography TINY TOT VKRAM VEIAVALL RAM JETHMALANI h 2E Our Environment 48 Book Paradise( REBEL SUSAN ADELMAN RAAAARGHI JEREMY_STRONG DINOSAUR Pox NANI PALKHIVALA Soli J Sorabjee BANDAGESI JEREMY STRONG LET $ Do THE Pharaohi GENIUS Arvind P Datar LexisNexis\" 6 COURTROOM 0 NEW dhisndzoDtsmixi 9 DotoL IO RLd WIDE THP ONESTSEUEES WO RLD WHDE 1 2o 9 ROBERT 0 5 46 3 @2 3 V BESTSELLER JoHN DESTSELLER 1 1 LUDIM 1 g3 1 1 5 46 BLHILy GrUgham  BlMEY E VHHH 2 I0 3 31 3 4 3 0 6 2 1 CLEAREPRESEM CHAHEber TESUMF 1 IH APOCHPSE E1 3 HommanLeuis 8 H 1 DA_BER THE FEARG 1 1 IH L WATCH 1 3 I3/ 23 RAINMaker IVI Pep 7 8 3 51299 0.451- GOXL SaB 19114-5 0 3 5 0 \"Turnip 2 1 [ 1 3 SHI 1 I 2 1 Dumpty 1 5 1']\n"
     ]
    }
   ],
   "source": [
    "titles = ' '.join(result).split('\\n')\n",
    "# print(titles)\n",
    "print([title.strip() for title in titles if title.strip()])"
   ]
  },
  {
   "cell_type": "code",
   "execution_count": 12,
   "metadata": {},
   "outputs": [],
   "source": [
    "import cv2\n",
    "import numpy as np"
   ]
  },
  {
   "cell_type": "code",
   "execution_count": null,
   "metadata": {},
   "outputs": [],
   "source": [
    "image = cv2.imread(image_path)\n",
    "gray = cv2.cvtColor(image, cv2.COLOR_BGR2GRAY)"
   ]
  },
  {
   "cell_type": "code",
   "execution_count": 13,
   "metadata": {},
   "outputs": [],
   "source": [
    "alpha = 1.5  # Contrast control (1.0-3.0)\n",
    "beta = 50    # Brightness control (0-100)\n",
    "contrasted = cv2.convertScaleAbs(gray, alpha=alpha, beta=beta)"
   ]
  },
  {
   "cell_type": "code",
   "execution_count": 14,
   "metadata": {},
   "outputs": [],
   "source": [
    "_, binary = cv2.threshold(contrasted, 0, 255, cv2.THRESH_BINARY + cv2.THRESH_OTSU)"
   ]
  },
  {
   "cell_type": "code",
   "execution_count": 15,
   "metadata": {},
   "outputs": [],
   "source": [
    "denoised = cv2.GaussianBlur(binary, (5, 5), 0)"
   ]
  },
  {
   "cell_type": "code",
   "execution_count": 16,
   "metadata": {},
   "outputs": [],
   "source": [
    "scale_percent = 150  # Increase by 50%\n",
    "width = int(denoised.shape[1] * scale_percent / 100)\n",
    "height = int(denoised.shape[0] * scale_percent / 100)\n",
    "resized = cv2.resize(denoised, (width, height), interpolation=cv2.INTER_CUBIC)"
   ]
  },
  {
   "cell_type": "code",
   "execution_count": 18,
   "metadata": {},
   "outputs": [
    {
     "name": "stdout",
     "output_type": "stream",
     "text": [
      "['# 7 0 4 A 2 f 1 AS S M ] T % 00 itroducfiow %\" Gii7 2 pcy loxe ELIzABETh GILBERT: 1 ` L- BHAN Paulo Coelho Tortobuloet 33 YE64d z 0 JACU ES 3 0 _ ~0 2 Du 107\\' Mukuanhuusel 33aS HARDY THE IOT VOYIWZ MALANI 8 F REB DELMAN WEnOSAUR Pow NAN Sol Sora LANdAGES\\' ZEREY NG LEt*$ DO THE phara@hl COURTROOM GENIUS Arvind P Datar LexisNexis\" 6 NEW bindzodi_au 6 @ @ ui WOBLOMIde 1 ROBERT 0 D 0 3 12 Mau 1 1 2 LudLuM 8 F B VLUUDA MMu U 1 2 401 1 9 2 ~ 1 ELvB i; CHAHEBER Tm a1 Kzeh APOCHESE 1 7 Norman Lcrzs 0 DHncR RanhEker #4 [ WATCA 1 1 33 JF De GOL SaB 0 3 ECTCE TZETE 413 Turnip 1 1 0 SHl 9 3 1 1 0 1']\n"
     ]
    }
   ],
   "source": [
    "result = reader.readtext(resized, detail=0)\n",
    "# print(result)\n",
    "# Simple heuristic: join all text as potential titles, split by lines or common separators\n",
    "titles = ' '.join(result).split('\\n')  # Basic splitting; improve with vision if needed\n",
    "print([title.strip() for title in titles if title.strip()])"
   ]
  },
  {
   "cell_type": "code",
   "execution_count": null,
   "metadata": {},
   "outputs": [],
   "source": []
  }
 ],
 "metadata": {
  "kernelspec": {
   "display_name": "Python 3",
   "language": "python",
   "name": "python3"
  },
  "language_info": {
   "codemirror_mode": {
    "name": "ipython",
    "version": 3
   },
   "file_extension": ".py",
   "mimetype": "text/x-python",
   "name": "python",
   "nbconvert_exporter": "python",
   "pygments_lexer": "ipython3",
   "version": "3.13.7"
  }
 },
 "nbformat": 4,
 "nbformat_minor": 2
}
